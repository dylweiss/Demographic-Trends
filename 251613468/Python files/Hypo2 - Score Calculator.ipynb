{
 "cells": [
  {
   "cell_type": "code",
   "execution_count": 2,
   "metadata": {},
   "outputs": [],
   "source": [
    "edu_csv_file = \"education data new_transposed.csv\"\n",
    "pop_csv_file = \"population data_transposed.csv\""
   ]
  },
  {
   "cell_type": "code",
   "execution_count": 3,
   "metadata": {},
   "outputs": [],
   "source": [
    "# import libraries\n",
    "import pandas as pd\n",
    "import matplotlib.pyplot as plt\n",
    "import numpy as np"
   ]
  },
  {
   "cell_type": "code",
   "execution_count": 4,
   "metadata": {},
   "outputs": [
    {
     "name": "stdout",
     "output_type": "stream",
     "text": [
      "        State High school graduate or higher Bachelor's degree or higher  \\\n",
      "0     Alabama                         88.80%                      28.80%   \n",
      "1      Alaska                         93.30%                      30.60%   \n",
      "2     Arizona                         89.20%                      33.00%   \n",
      "3    Arkansas                         89.10%                      25.40%   \n",
      "4  California                         84.70%                      37.00%   \n",
      "\n",
      "        Total  \n",
      "0   5,024,279  \n",
      "1     733,391  \n",
      "2   7,151,502  \n",
      "3   3,011,524  \n",
      "4  39,538,223  \n"
     ]
    }
   ],
   "source": [
    "# read in the data\n",
    "edu_data = pd.read_csv(edu_csv_file)\n",
    "pop_data = pd.read_csv(pop_csv_file)\n",
    "\n",
    "# join 2 dataframes\n",
    "data = pd.concat([edu_data, pop_data], axis=1)\n",
    "\n",
    "# drop the duplicate state column\n",
    "data = data.loc[:,~data.columns.duplicated()]\n",
    "\n",
    "# print the first 5 rows of the data\n",
    "print(data.head())"
   ]
  },
  {
   "cell_type": "code",
   "execution_count": 5,
   "metadata": {},
   "outputs": [
    {
     "name": "stdout",
     "output_type": "stream",
     "text": [
      "T-test between high school graduate or higher and bachelors degree or higher:  TtestResult(statistic=54.3467054051472, pvalue=4.0063535901463424e-77, df=102.0)\n",
      "T-test between population and high school graduate or higher:  TtestResult(statistic=6.316806047334502, pvalue=7.065823672498182e-09, df=102.0)\n",
      "T-test between population and bachelors degree or higher:  TtestResult(statistic=6.316806594991512, pvalue=7.065805688846119e-09, df=102.0)\n"
     ]
    }
   ],
   "source": [
    "# State - High school graduate or higher - Bachelor's degree or higher - Total\n",
    "\n",
    "# perform t-test\n",
    "from scipy.stats import ttest_ind\n",
    "\n",
    "high_school_data = []\n",
    "bachelors_data = []\n",
    "total_pop_data = []\n",
    "\n",
    "def convert_percentage_to_number(x):\n",
    "    return float(x[:-1]) / 100\n",
    "\n",
    "def convert_number(x):\n",
    "    return int(x.replace(',', ''))\n",
    "\n",
    "for i in range(len(data)):\n",
    "    high_school_data.append(convert_percentage_to_number(data['High school graduate or higher'][i]))\n",
    "    bachelors_data.append(convert_percentage_to_number(data[\"Bachelor's degree or higher\"][i]))\n",
    "    total_pop_data.append(convert_number(data['Total'][i]))\n",
    "\n",
    "# calculate the t-test between high school and bachelors\n",
    "ttest = ttest_ind(high_school_data, bachelors_data)\n",
    "print(\"T-test between high school graduate or higher and bachelors degree or higher: \", ttest)\n",
    "\n",
    "# calculate the t-test between population and high school, and population and bachelors\n",
    "ttest_hs = ttest_ind(total_pop_data, high_school_data)\n",
    "print(\"T-test between population and high school graduate or higher: \", ttest_hs)\n",
    "\n",
    "ttest_bachelors = ttest_ind(total_pop_data, bachelors_data)\n",
    "print(\"T-test between population and bachelors degree or higher: \", ttest_bachelors)"
   ]
  },
  {
   "cell_type": "code",
   "execution_count": 6,
   "metadata": {},
   "outputs": [
    {
     "name": "stdout",
     "output_type": "stream",
     "text": [
      "ANOVA between high school graduate or higher and bachelors degree or higher:  F_onewayResult(statistic=2953.5643883938615, pvalue=4.0063535901459075e-77)\n",
      "ANOVA between population and high school graduate or higher:  F_onewayResult(statistic=39.90203863964173, pvalue=7.065823672498275e-09)\n",
      "ANOVA between population and bachelors degree or higher:  F_onewayResult(statistic=39.902045558528265, pvalue=7.065805688846224e-09)\n"
     ]
    }
   ],
   "source": [
    "# perform ANOVA\n",
    "from scipy.stats import f_oneway\n",
    "\n",
    "# calculate the ANOVA between high school and bachelors\n",
    "anova = f_oneway(high_school_data, bachelors_data)\n",
    "print(\"ANOVA between high school graduate or higher and bachelors degree or higher: \", anova)\n",
    "\n",
    "# calculate the ANOVA between population and high school, and population and bachelors\n",
    "anova_hs = f_oneway(total_pop_data, high_school_data)\n",
    "print(\"ANOVA between population and high school graduate or higher: \", anova_hs)\n",
    "\n",
    "anova_bachelors = f_oneway(total_pop_data, bachelors_data)\n",
    "print(\"ANOVA between population and bachelors degree or higher: \", anova_bachelors)"
   ]
  },
  {
   "cell_type": "code",
   "execution_count": 10,
   "metadata": {},
   "outputs": [
    {
     "name": "stdout",
     "output_type": "stream",
     "text": [
      "Correlation coefficient between population and high school graduate or higher:  -0.47788784868743467\n",
      "Correlation coefficient between population and bachelors degree or higher:  0.05724716936392127\n"
     ]
    }
   ],
   "source": [
    "total_pop_data = np.array(total_pop_data)\n",
    "high_school_data = np.array(high_school_data)\n",
    "\n",
    "# correlation coefficient\n",
    "correlation_hs = np.corrcoef(total_pop_data, high_school_data)[0, 1]\n",
    "print(\"Correlation coefficient between population and high school graduate or higher: \", correlation_hs)\n",
    "\n",
    "correlation_bachelors = np.corrcoef(total_pop_data, bachelors_data)[0, 1]\n",
    "print(\"Correlation coefficient between population and bachelors degree or higher: \", correlation_bachelors)"
   ]
  }
 ],
 "metadata": {
  "kernelspec": {
   "display_name": "Python 3",
   "language": "python",
   "name": "python3"
  },
  "language_info": {
   "codemirror_mode": {
    "name": "ipython",
    "version": 3
   },
   "file_extension": ".py",
   "mimetype": "text/x-python",
   "name": "python",
   "nbconvert_exporter": "python",
   "pygments_lexer": "ipython3",
   "version": "3.10.11"
  }
 },
 "nbformat": 4,
 "nbformat_minor": 2
}
