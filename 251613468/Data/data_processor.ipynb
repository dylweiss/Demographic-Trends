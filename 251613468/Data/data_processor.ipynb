{
 "cells": [
  {
   "cell_type": "code",
   "execution_count": 1,
   "metadata": {},
   "outputs": [
    {
     "name": "stdout",
     "output_type": "stream",
     "text": [
      "Written to education data new.csv\n"
     ]
    }
   ],
   "source": [
    "# open the csv file and only keep the columns with no \"!\" in the header\n",
    "import csv\n",
    "import sys\n",
    "\n",
    "file = \"education data.csv\"\n",
    "with open(file, \"r\") as f:\n",
    "    reader = csv.reader(f)\n",
    "    header = next(reader)\n",
    "    indices = [i for i, h in enumerate(header) if \"!\" not in h]\n",
    "    rows = [[row[i] for i in indices] for row in reader]\n",
    "\n",
    "file_new = \"education data new.csv\"\n",
    "with open(file_new, \"w\") as f:\n",
    "    writer = csv.writer(f)\n",
    "    writer.writerow([header[i] for i in indices])\n",
    "    writer.writerows(rows)\n",
    "print(f\"Written to {file_new}\")"
   ]
  },
  {
   "cell_type": "code",
   "execution_count": 8,
   "metadata": {},
   "outputs": [
    {
     "name": "stdout",
     "output_type": "stream",
     "text": [
      "Written to education data new_transposed.csv\n"
     ]
    }
   ],
   "source": [
    "# get the transpose of the csv file, use utf-8 encoding\n",
    "# file = \"population data.csv\"\n",
    "file = \"education data new.csv\"\n",
    "with open(file, \"r\", encoding=\"utf-8\", newline=\"\") as f:\n",
    "    reader = csv.reader(f)\n",
    "    rows = list(reader)\n",
    "    rows = list(zip(*rows))\n",
    "\n",
    "# remove null values\n",
    "rows = [[cell if cell else \"\" for cell in row] for row in rows]\n",
    "\n",
    "file_new = file.replace(\".csv\", \"_transposed.csv\")\n",
    "with open(file_new, \"w\", encoding=\"utf-8\", newline=\"\") as f:\n",
    "    writer = csv.writer(f)\n",
    "    writer.writerows(rows)\n",
    "print(f\"Written to {file_new}\")"
   ]
  }
 ],
 "metadata": {
  "kernelspec": {
   "display_name": "Python 3",
   "language": "python",
   "name": "python3"
  },
  "language_info": {
   "codemirror_mode": {
    "name": "ipython",
    "version": 3
   },
   "file_extension": ".py",
   "mimetype": "text/x-python",
   "name": "python",
   "nbconvert_exporter": "python",
   "pygments_lexer": "ipython3",
   "version": "3.10.11"
  }
 },
 "nbformat": 4,
 "nbformat_minor": 2
}
